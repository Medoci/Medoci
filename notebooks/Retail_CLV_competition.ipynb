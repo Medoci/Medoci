{
 "cells": [
  {
   "cell_type": "code",
   "execution_count": 1,
   "metadata": {},
   "outputs": [],
   "source": [
    "import pandas as pd\n",
    "import numpy as np\n",
    "\n",
    "import matplotlib.pyplot as plt\n",
    "import seaborn as sns"
   ]
  },
  {
   "cell_type": "code",
   "execution_count": 2,
   "metadata": {},
   "outputs": [
    {
     "name": "stderr",
     "output_type": "stream",
     "text": [
      "C:\\Users\\Benny Boi\\AppData\\Local\\Temp\\ipykernel_3224\\3963306264.py:1: MatplotlibDeprecationWarning: The seaborn styles shipped by Matplotlib are deprecated since 3.6, as they no longer correspond to the styles shipped by seaborn. However, they will remain available as 'seaborn-v0_8-<style>'. Alternatively, directly use the seaborn API instead.\n",
      "  plt.style.use(\"seaborn-whitegrid\")\n"
     ]
    }
   ],
   "source": [
    "plt.style.use(\"seaborn-whitegrid\")"
   ]
  },
  {
   "cell_type": "code",
   "execution_count": 3,
   "metadata": {},
   "outputs": [],
   "source": [
    "pd.options.display.max_columns = 500\n",
    "pd.options.display.max_rows = 4000"
   ]
  },
  {
   "attachments": {},
   "cell_type": "markdown",
   "metadata": {},
   "source": [
    "# Retail Dataset\n",
    "\n",
    "### Data holds the basic information about sales data. The company have sales agencies / resellers and branches and the data file holds only the branch/reseller information in the customer field.\n",
    "\n",
    "    -InvoiceID : ID of the transaction. A transaction might hold multiple records for the same customer at the same date with multiple products (SKU). DocumentID might be useful for combining the transactions and detecting the items sold together.\n",
    "    -Date : Date of transaction / sell. In the date time format.\n",
    "    -ProductID : Item / Product code. The unique code for each item sold.\n",
    "    -TotalSales : Sales price for the transaction. If you want to get unit_price , divide TotalSales column to Quantity column\n",
    "    -Discount : Discount amount for the transaction.\n",
    "    -CustomerID : Unique customer id for each customer. For the data set, customer can be a reseller or a branch of the company.\n",
    "    -Quantity : Number of items sold in the transaction.\n",
    "\n",
    "<br><b>How to Use Data Set ?</br></b>\n",
    "Some of the potential questions from the data might be listed as below, please add more to discussion if you have any idea:\n",
    "\n",
    "<br><b>What is the optimum price for each item?</br></b>\n",
    "\n",
    "    -Demand prediction for each item on next months.\n",
    "    -Customer Lifetime Value for each Customer.\n",
    "    -Customer Segmentation (an easy approach of RFM or more complex segmentations)\n",
    "    -Customer <> Product Recommendation (what are the best products for the customers)."
   ]
  },
  {
   "cell_type": "code",
   "execution_count": 5,
   "metadata": {},
   "outputs": [],
   "source": [
    "retail = pd.read_csv(r\"C:\\Users\\Benny Boi\\Repositories\\Medoci\\data\\kaggle\\competitions\\clv_retail\\retail.csv\")"
   ]
  },
  {
   "cell_type": "code",
   "execution_count": 7,
   "metadata": {},
   "outputs": [
    {
     "data": {
      "text/plain": [
       "(29103, 8)"
      ]
     },
     "execution_count": 7,
     "metadata": {},
     "output_type": "execute_result"
    }
   ],
   "source": [
    "retail.shape"
   ]
  },
  {
   "cell_type": "code",
   "execution_count": 8,
   "metadata": {},
   "outputs": [
    {
     "data": {
      "text/plain": [
       "Index(['Unnamed: 0', 'InvoiceID', 'Date', 'ProductID', 'TotalSales',\n",
       "       'Discount', 'CustomerID', 'Quantity'],\n",
       "      dtype='object')"
      ]
     },
     "execution_count": 8,
     "metadata": {},
     "output_type": "execute_result"
    }
   ],
   "source": [
    "retail.columns"
   ]
  },
  {
   "cell_type": "code",
   "execution_count": 6,
   "metadata": {},
   "outputs": [
    {
     "data": {
      "text/html": [
       "<div>\n",
       "<style scoped>\n",
       "    .dataframe tbody tr th:only-of-type {\n",
       "        vertical-align: middle;\n",
       "    }\n",
       "\n",
       "    .dataframe tbody tr th {\n",
       "        vertical-align: top;\n",
       "    }\n",
       "\n",
       "    .dataframe thead th {\n",
       "        text-align: right;\n",
       "    }\n",
       "</style>\n",
       "<table border=\"1\" class=\"dataframe\">\n",
       "  <thead>\n",
       "    <tr style=\"text-align: right;\">\n",
       "      <th></th>\n",
       "      <th>Unnamed: 0</th>\n",
       "      <th>InvoiceID</th>\n",
       "      <th>Date</th>\n",
       "      <th>ProductID</th>\n",
       "      <th>TotalSales</th>\n",
       "      <th>Discount</th>\n",
       "      <th>CustomerID</th>\n",
       "      <th>Quantity</th>\n",
       "    </tr>\n",
       "  </thead>\n",
       "  <tbody>\n",
       "    <tr>\n",
       "      <th>0</th>\n",
       "      <td>0</td>\n",
       "      <td>328</td>\n",
       "      <td>2019-12-27</td>\n",
       "      <td>1684</td>\n",
       "      <td>796.610169</td>\n",
       "      <td>143.389831</td>\n",
       "      <td>185</td>\n",
       "      <td>4</td>\n",
       "    </tr>\n",
       "    <tr>\n",
       "      <th>1</th>\n",
       "      <td>1</td>\n",
       "      <td>329</td>\n",
       "      <td>2019-12-27</td>\n",
       "      <td>524</td>\n",
       "      <td>355.932203</td>\n",
       "      <td>64.067797</td>\n",
       "      <td>185</td>\n",
       "      <td>2</td>\n",
       "    </tr>\n",
       "    <tr>\n",
       "      <th>2</th>\n",
       "      <td>2</td>\n",
       "      <td>330</td>\n",
       "      <td>2019-12-27</td>\n",
       "      <td>192</td>\n",
       "      <td>901.694915</td>\n",
       "      <td>162.305085</td>\n",
       "      <td>230</td>\n",
       "      <td>4</td>\n",
       "    </tr>\n",
       "    <tr>\n",
       "      <th>3</th>\n",
       "      <td>3</td>\n",
       "      <td>330</td>\n",
       "      <td>2019-12-27</td>\n",
       "      <td>218</td>\n",
       "      <td>182.754237</td>\n",
       "      <td>32.895763</td>\n",
       "      <td>230</td>\n",
       "      <td>1</td>\n",
       "    </tr>\n",
       "    <tr>\n",
       "      <th>4</th>\n",
       "      <td>4</td>\n",
       "      <td>330</td>\n",
       "      <td>2019-12-27</td>\n",
       "      <td>247</td>\n",
       "      <td>780.101695</td>\n",
       "      <td>140.418305</td>\n",
       "      <td>230</td>\n",
       "      <td>4</td>\n",
       "    </tr>\n",
       "  </tbody>\n",
       "</table>\n",
       "</div>"
      ],
      "text/plain": [
       "   Unnamed: 0  InvoiceID        Date  ProductID  TotalSales    Discount  \\\n",
       "0           0        328  2019-12-27       1684  796.610169  143.389831   \n",
       "1           1        329  2019-12-27        524  355.932203   64.067797   \n",
       "2           2        330  2019-12-27        192  901.694915  162.305085   \n",
       "3           3        330  2019-12-27        218  182.754237   32.895763   \n",
       "4           4        330  2019-12-27        247  780.101695  140.418305   \n",
       "\n",
       "   CustomerID  Quantity  \n",
       "0         185         4  \n",
       "1         185         2  \n",
       "2         230         4  \n",
       "3         230         1  \n",
       "4         230         4  "
      ]
     },
     "execution_count": 6,
     "metadata": {},
     "output_type": "execute_result"
    }
   ],
   "source": [
    "retail.head()"
   ]
  },
  {
   "cell_type": "code",
   "execution_count": null,
   "metadata": {},
   "outputs": [],
   "source": []
  }
 ],
 "metadata": {
  "kernelspec": {
   "display_name": "venv",
   "language": "python",
   "name": "python3"
  },
  "language_info": {
   "codemirror_mode": {
    "name": "ipython",
    "version": 3
   },
   "file_extension": ".py",
   "mimetype": "text/x-python",
   "name": "python",
   "nbconvert_exporter": "python",
   "pygments_lexer": "ipython3",
   "version": "3.11.2"
  },
  "orig_nbformat": 4
 },
 "nbformat": 4,
 "nbformat_minor": 2
}
